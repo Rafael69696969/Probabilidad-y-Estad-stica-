{
  "nbformat": 4,
  "nbformat_minor": 0,
  "metadata": {
    "colab": {
      "provenance": [],
      "authorship_tag": "ABX9TyOePgnXrlRB1dFhO+vWqzzQ",
      "include_colab_link": true
    },
    "kernelspec": {
      "name": "python3",
      "display_name": "Python 3"
    },
    "language_info": {
      "name": "python"
    }
  },
  "cells": [
    {
      "cell_type": "markdown",
      "metadata": {
        "id": "view-in-github",
        "colab_type": "text"
      },
      "source": [
        "<a href=\"https://colab.research.google.com/github/Rafael69696969/Probabilidad-y-Estad-stica-/blob/main/Probabilidad%20y%20estad%C3%ADstica/practica1.ipynb\" target=\"_parent\"><img src=\"https://colab.research.google.com/assets/colab-badge.svg\" alt=\"Open In Colab\"/></a>"
      ]
    },
    {
      "cell_type": "code",
      "execution_count": 1,
      "metadata": {
        "id": "-lq7iim7N_FP"
      },
      "outputs": [],
      "source": [
        "import numpy as np\n",
        "from scipy.stats import binom"
      ]
    },
    {
      "cell_type": "markdown",
      "source": [
        "***Primer ejercicio de valor esperado: Torneo de póker**\n"
      ],
      "metadata": {
        "id": "yyznXl5ROLvx"
      }
    },
    {
      "cell_type": "code",
      "source": [
        "# Posibles ganancias o pérdidas\n",
        "X = np.array([490000, -10000])\n",
        "\n",
        "# Probabilidades respectivas\n",
        "P = np.array([0.005, 0.995])\n",
        "\n",
        "# Cálculo del valor esperado\n",
        "valor_esperado = np.sum(X * P)\n",
        "\n",
        "print(f\"El valor esperado es: {valor_esperado} mil dólares\")"
      ],
      "metadata": {
        "colab": {
          "base_uri": "https://localhost:8080/"
        },
        "id": "1Mk5D4u9Of_M",
        "outputId": "f74a27d1-d4b3-4821-fbf8-0b68eb4cd4b0"
      },
      "execution_count": 2,
      "outputs": [
        {
          "output_type": "stream",
          "name": "stdout",
          "text": [
            "El valor esperado es: -7500.0 mil dólares\n"
          ]
        }
      ]
    },
    {
      "cell_type": "markdown",
      "source": [
        "***Segundo ejercicio de valor esperado: Viaje en tren de Alice***"
      ],
      "metadata": {
        "id": "2QiGIuISOxTh"
      }
    },
    {
      "cell_type": "code",
      "source": [
        "# Posibles costos del viaje\n",
        "X = np.array([5, 305])\n",
        "\n",
        "# Probabilidades respectivas\n",
        "P = np.array([0.95, 0.05])\n",
        "\n",
        "# Cálculo del valor esperado\n",
        "costo_esperado = np.sum(X * P)\n",
        "\n",
        "print(f\"El costo total esperado del viaje es: {costo_esperado} euros\")\n",
        "\n",
        "#El costo total esperado del viaje en tren de Alice es 20 euros.\n",
        "#Aunque el boleto costó solo 5 euros, el riesgo de la multa aumenta el costo promedio del viaje."
      ],
      "metadata": {
        "colab": {
          "base_uri": "https://localhost:8080/"
        },
        "id": "W0dEPrKVO0uM",
        "outputId": "863d6291-d356-4de7-c780-732207dc7d61"
      },
      "execution_count": 3,
      "outputs": [
        {
          "output_type": "stream",
          "name": "stdout",
          "text": [
            "El costo total esperado del viaje es: 20.0 euros\n"
          ]
        }
      ]
    },
    {
      "cell_type": "markdown",
      "source": [
        "***Tercer ejercicio de valor esperado: Dado justo de 6 caras***"
      ],
      "metadata": {
        "id": "7U1jI1odO6hc"
      }
    },
    {
      "cell_type": "code",
      "source": [
        "# Posibles valores del dado\n",
        "valores = np.array([1, 2, 3, 4, 5, 6])\n",
        "\n",
        "# Probabilidades (todas iguales en un dado justo)\n",
        "probabilidades = np.full(6, 1/6)\n",
        "\n",
        "# Calculamos el valor esperado\n",
        "valor_esperado = np.sum(valores * probabilidades)\n",
        "\n",
        "# Mostramos el resultado\n",
        "print(\"El valor esperado del dado es:\", valor_esperado)"
      ],
      "metadata": {
        "colab": {
          "base_uri": "https://localhost:8080/"
        },
        "id": "twaIr8h4O_l4",
        "outputId": "b563438f-373f-41df-e772-fad15c051517"
      },
      "execution_count": 4,
      "outputs": [
        {
          "output_type": "stream",
          "name": "stdout",
          "text": [
            "El valor esperado del dado es: 3.5\n"
          ]
        }
      ]
    },
    {
      "cell_type": "code",
      "source": [
        "# 1. ¿El dado tiene más probabilidad de caer en 4 que en 6?\n",
        "print(\"¿El número 4 tiene más probabilidad que el 6?\", 1/6 > 1/6)  # Falso\n",
        "\n",
        "# 2. ¿3.5 es un resultado posible en un lanzamiento?\n",
        "print(\"¿3.5 puede ser un resultado?\", 3.5 in valores)  # Falso\n",
        "\n",
        "# 3. ¿El promedio de muchos lanzamientos se acerca a 3.5?\n",
        "simulaciones = np.random.choice(valores, size=100000)  # 100,000 lanzamientos\n",
        "promedio = np.mean(simulaciones)\n",
        "print(\"Promedio de muchos lanzamientos:\", promedio)  # Debe acercarse a 3.5"
      ],
      "metadata": {
        "colab": {
          "base_uri": "https://localhost:8080/"
        },
        "id": "phcR0cLRPD1L",
        "outputId": "f0e7849b-f742-4755-d702-f23a2f3acd1c"
      },
      "execution_count": 5,
      "outputs": [
        {
          "output_type": "stream",
          "name": "stdout",
          "text": [
            "¿El número 4 tiene más probabilidad que el 6? False\n",
            "¿3.5 puede ser un resultado? False\n",
            "Promedio de muchos lanzamientos: 3.4951\n"
          ]
        }
      ]
    },
    {
      "cell_type": "markdown",
      "source": [
        "***Cuarto ejercicio de valor esperado: Apuesta de Ivy***"
      ],
      "metadata": {
        "id": "YXoVmRNPPI1s"
      }
    },
    {
      "cell_type": "code",
      "source": [
        "# Definimos los resultados posibles y sus probabilidades\n",
        "ganancia_dragones = 10\n",
        "perdida_tortugas = -11\n",
        "prob_ganar = 0.5\n",
        "prob_perder = 0.5\n",
        "\n",
        "# Calculamos el valor esperado\n",
        "valor_esperado = (ganancia_dragones * prob_ganar) + (perdida_tortugas * prob_perder)\n",
        "\n",
        "# Mostramos el resultado\n",
        "print(\"El valor esperado de la apuesta es:\", valor_esperado, \"Dólares\")"
      ],
      "metadata": {
        "colab": {
          "base_uri": "https://localhost:8080/"
        },
        "id": "ciVZzhtCPNeF",
        "outputId": "c1df278b-fc2e-40f7-8866-209774e34a8d"
      },
      "execution_count": 6,
      "outputs": [
        {
          "output_type": "stream",
          "name": "stdout",
          "text": [
            "El valor esperado de la apuesta es: -0.5 Dólares\n"
          ]
        }
      ]
    }
  ]
}