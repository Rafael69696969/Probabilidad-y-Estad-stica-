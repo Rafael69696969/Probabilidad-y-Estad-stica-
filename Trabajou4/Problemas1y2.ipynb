{
  "nbformat": 4,
  "nbformat_minor": 0,
  "metadata": {
    "colab": {
      "provenance": [],
      "authorship_tag": "ABX9TyOJ2hOCXWwi2diBYthqFVrz",
      "include_colab_link": true
    },
    "kernelspec": {
      "name": "python3",
      "display_name": "Python 3"
    },
    "language_info": {
      "name": "python"
    }
  },
  "cells": [
    {
      "cell_type": "markdown",
      "metadata": {
        "id": "view-in-github",
        "colab_type": "text"
      },
      "source": [
        "<a href=\"https://colab.research.google.com/github/Rafael69696969/Probabilidad-y-Estad-stica-/blob/main/Trabajou4/Problemas1y2.ipynb\" target=\"_parent\"><img src=\"https://colab.research.google.com/assets/colab-badge.svg\" alt=\"Open In Colab\"/></a>"
      ]
    },
    {
      "cell_type": "markdown",
      "source": [
        "\n",
        "\n",
        "```\n",
        "# Esto tiene formato de código\n",
        "```\n",
        "\n",
        "# **Problemas de probabilidad poison,normal y binomial**"
      ],
      "metadata": {
        "id": "re9CTIhMFv9M"
      }
    },
    {
      "cell_type": "code",
      "execution_count": null,
      "metadata": {
        "colab": {
          "base_uri": "https://localhost:8080/"
        },
        "id": "we70RhjhFpU6",
        "outputId": "9cf5d968-5911-4c99-8496-1d786e79f980"
      },
      "outputs": [
        {
          "output_type": "stream",
          "name": "stdout",
          "text": [
            "a) Probabilidad de que ingresen exactamente 2 personas: 0.08422433748856832\n",
            "b) Probabilidad de que ingresen más de 10 personas: 0.013695268598382881\n",
            "→ No es probable que ingresen más de 10 personas (menos del 5%)\n"
          ]
        }
      ],
      "source": [
        "from scipy.stats import poisson\n",
        "\n",
        "# Media (lambda) de la distribución Poisson\n",
        "media = 5\n",
        "\n",
        "# a) Probabilidad de que ingresen exactamente 2 personas\n",
        "prob_2_personas = poisson.pmf(2, media)\n",
        "print(\"a) Probabilidad de que ingresen exactamente 2 personas:\", prob_2_personas)\n",
        "\n",
        "# b) ¿Es probable que x exceda de 10?\n",
        "# Calculamos P(X > 10) = 1 - P(X <= 10)\n",
        "prob_mas_10 = 1 - poisson.cdf(10, media)\n",
        "print(\"b) Probabilidad de que ingresen más de 10 personas:\", prob_mas_10)\n",
        "\n",
        "# Explicación simple para b)\n",
        "if prob_mas_10 < 0.05:\n",
        "    print(\"→ No es probable que ingresen más de 10 personas (menos del 5%)\")\n",
        "else:\n",
        "    print(\"→ Sí es probable que ingresen más de 10 personas (más del 5%)\")"
      ]
    },
    {
      "cell_type": "markdown",
      "source": [
        "# **Problema2**"
      ],
      "metadata": {
        "id": "qoBYElMNGADQ"
      }
    },
    {
      "cell_type": "code",
      "source": [
        "from scipy.stats import binom\n",
        "\n",
        "# Parámetros de la distribución binomial\n",
        "n = 1000        # Tamaño del lote\n",
        "p = 0.001       # Probabilidad de que un motor sea defectuoso\n",
        "\n",
        "# a) Probabilidad de que ninguno sea defectuoso\n",
        "prob_0 = binom.pmf(0, n, p)\n",
        "print(\"a) Probabilidad de que ninguno sea defectuoso:\", prob_0)\n",
        "\n",
        "# b) Probabilidad de que tres sean defectuosos\n",
        "prob_3 = binom.pmf(3, n, p)\n",
        "print(\"b) Probabilidad de que tres sean defectuosos:\", prob_3)\n",
        "\n",
        "# c) Probabilidad de que cuatro sean defectuosos\n",
        "prob_4 = binom.pmf(4, n, p)\n",
        "print(\"c) Probabilidad de que cuatro sean defectuosos:\", prob_4)\n"
      ],
      "metadata": {
        "id": "MNPZEsbMGDM_",
        "outputId": "866ced7d-e464-48e9-9834-fe74ed348b4f",
        "colab": {
          "base_uri": "https://localhost:8080/"
        }
      },
      "execution_count": null,
      "outputs": [
        {
          "output_type": "stream",
          "name": "stdout",
          "text": [
            "a) Probabilidad de que ninguno sea defectuoso: 0.3676954247709639\n",
            "b) Probabilidad de que tres sean defectuosos: 0.061282509389840666\n",
            "c) Probabilidad de que cuatro sean defectuosos: 0.015289955420838651\n"
          ]
        }
      ]
    }
  ]
}